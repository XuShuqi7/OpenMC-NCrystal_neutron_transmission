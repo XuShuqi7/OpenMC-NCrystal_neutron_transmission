{
 "cells": [
  {
   "cell_type": "markdown",
   "id": "284b2121",
   "metadata": {},
   "source": [
    "# Energy/Wavelength dependent transmission"
   ]
  },
  {
   "cell_type": "code",
   "execution_count": 1,
   "id": "742ec8bf",
   "metadata": {},
   "outputs": [],
   "source": [
    "import openmc\n",
    "import NCrystal as NC\n",
    "import numpy as np\n",
    "import matplotlib.pyplot as plt\n",
    "openmc.config['cross_sections'] = '/Users/shuqixu/Downloads/My_C++/endfb-viii.0-hdf5/cross_sections.xml'"
   ]
  },
  {
   "cell_type": "markdown",
   "id": "710b18fa",
   "metadata": {},
   "source": [
    "We start defining a function that returns an OpenMC model for a pencil beam incident perpendicular an slab, with two small spheres to tally the incident and transmitted spectra. The function takes as a parameter an OpenMC material to fill the slab."
   ]
  },
  {
   "cell_type": "code",
   "execution_count": 2,
   "id": "d24a4dd7-fc89-4de5-93e7-dcecdd9d0cfa",
   "metadata": {},
   "outputs": [],
   "source": [
    "def create_model_2layers(slab_mat1, slab_mat2, NParticles=1000000, slab1_thickness=1, slab2_thickness=1):\n",
    "    p1 = openmc.ZPlane(z0=-slab1_thickness/2)\n",
    "    p2 = openmc.ZPlane(z0=+slab1_thickness/2)\n",
    "    p3 = openmc.ZPlane(z0=+slab1_thickness/2+slab2_thickness)\n",
    "    s1 = openmc.Sphere(r=0.1, z0=-(slab1_thickness/2+10))\n",
    "    s2 = openmc.Sphere(r=0.1, z0=+(slab1_thickness/2+10))\n",
    "    s3 = openmc.Sphere(r=100, boundary_type='vacuum')\n",
    "    c1 = openmc.Cell(region=+p1&-p2&-s3, fill=slab_mat1)\n",
    "    c12 = openmc.Cell(region=+p2&-p3&-s3, fill=slab_mat2)\n",
    "    c2 = openmc.Cell(region=-s1, fill=None)\n",
    "    c3 = openmc.Cell(region=-s2, fill=None)\n",
    "    c4 = openmc.Cell(region=(-p1|+p3)&+s1&+s2&-s3, fill=None)\n",
    "    u1 = openmc.Universe(cells=[c1, c12, c2, c3, c4])\n",
    "    geometry = openmc.Geometry(root=u1)\n",
    "    \n",
    "    source = openmc.Source()\n",
    "    source.space  = openmc.stats.Point(xyz=[0,0,-(slab1_thickness/2+20)])\n",
    "    source.angle  = openmc.stats.Monodirectional(reference_uvw=[0,0,1])\n",
    "    source.energy = openmc.stats.Uniform(1e-4,1)\n",
    "    \n",
    "    settings = openmc.Settings()\n",
    "    settings.source = source\n",
    "    settings.run_mode = 'fixed source'\n",
    "    settings.batches = 10\n",
    "    settings.particles = NParticles\n",
    "    settings.temperature = {'method':'nearest', 'tolerance':1000}\n",
    "\n",
    "    tally1 = openmc.Tally()\n",
    "    filter1 = openmc.CellFilter([c2])\n",
    "    filter2 = openmc.EnergyFilter(np.geomspace(1e-4, 1, 120))\n",
    "    tally1.scores = ['flux']\n",
    "    tally1.name = 'incident spectrum'\n",
    "    tally1.filters = [filter1, filter2]\n",
    "\n",
    "    tally2 = openmc.Tally()\n",
    "    filter3 = openmc.CellFilter([c3])\n",
    "    tally2.scores = ['flux']\n",
    "    tally2.name = 'transmitted spectrum'\n",
    "    tally2.filters = [filter2, filter3]\n",
    "\n",
    "    tallies = openmc.Tallies([tally1, tally2])\n",
    "    \n",
    "    return openmc.model.Model(geometry=geometry, settings=settings, tallies=tallies)"
   ]
  },
  {
   "cell_type": "markdown",
   "id": "19102f60",
   "metadata": {},
   "source": [
    "We will define a pair of functions to extract the spectra from the statepoint file:"
   ]
  },
  {
   "cell_type": "code",
   "execution_count": 3,
   "id": "747569ce",
   "metadata": {},
   "outputs": [],
   "source": [
    "def get_incident_tally(spfile='statepoint.10.h5'):\n",
    "    with openmc.StatePoint(spfile) as sp:\n",
    "        tally = sp.get_tally(name='incident spectrum')\n",
    "        df = tally.get_pandas_dataframe()\n",
    "        phi_g = df['mean'].values\n",
    "        E_g = df['energy high [eV]'].values\n",
    "        return E_g, phi_g\n",
    "\n",
    "def get_transmitted_tally(spfile='statepoint.10.h5'):\n",
    "    with openmc.StatePoint(spfile) as sp:\n",
    "        tally = sp.get_tally(name='transmitted spectrum')\n",
    "        df = tally.get_pandas_dataframe()\n",
    "        phi_g = df['mean'].values\n",
    "        E_g = df['energy high [eV]'].values\n",
    "        return E_g, phi_g"
   ]
  },
  {
   "cell_type": "code",
   "execution_count": 4,
   "id": "c53ae67f-1e47-4140-a96f-0feaee552f5b",
   "metadata": {},
   "outputs": [],
   "source": [
    "def NCTrans(wavelength=None, ncmat='',\n",
    "            density=None, sample_thickness=None):\n",
    "    \n",
    "    E = NC.wl2ekin(wavelength)\n",
    "    nc   = NC.createScatter(\"{}\".format(ncmat))\n",
    "    nca  = NC.createAbsorption(\"{}\".format(ncmat))\n",
    "    info = NC.createInfo(\"{}\".format(ncmat))\n",
    "    xs  = nc.crossSectionIsotropic(E) + nca.crossSectionIsotropic(E)\n",
    "\n",
    "    if density == None:\n",
    "        density = info.density\n",
    "        \n",
    "    M = 0 # molar mass per atom\n",
    "    for i in range(len(info.composition)):\n",
    "        M += info.composition[i][0] * info.composition[i][1].averageMassAMU()\n",
    "    factor = density / M * sample_thickness * 0.6022\n",
    "\n",
    "    print(info.composition, density, M, sample_thickness)\n",
    "    \n",
    "    return np.exp(-xs*factor)"
   ]
  },
  {
   "cell_type": "markdown",
   "id": "bb946527-0f03-47fd-a875-f75886b1f786",
   "metadata": {},
   "source": [
    "# NCrystal Material compositions not overlapped"
   ]
  },
  {
   "cell_type": "code",
   "execution_count": 5,
   "id": "391ce28d",
   "metadata": {},
   "outputs": [
    {
     "name": "stdout",
     "output_type": "stream",
     "text": [
      "rm: summary.h5: No such file or directory\n",
      "rm: statepoint.10.h5: No such file or directory\n"
     ]
    },
    {
     "name": "stderr",
     "output_type": "stream",
     "text": [
      "/Users/shuqixu/opt/miniconda3/envs/ncrystal-v4/lib/python3.13/site-packages/openmc/source.py:658: FutureWarning: This class is deprecated in favor of 'IndependentSource'\n",
      "  warnings.warn(\"This class is deprecated in favor of 'IndependentSource'\", FutureWarning)\n"
     ]
    },
    {
     "name": "stdout",
     "output_type": "stream",
     "text": [
      "                                %%%%%%%%%%%%%%%\n",
      "                           %%%%%%%%%%%%%%%%%%%%%%%%\n",
      "                        %%%%%%%%%%%%%%%%%%%%%%%%%%%%%%\n",
      "                      %%%%%%%%%%%%%%%%%%%%%%%%%%%%%%%%%%\n",
      "                    %%%%%%%%%%%%%%%%%%%%%%%%%%%%%%%%%%%%%%\n",
      "                   %%%%%%%%%%%%%%%%%%%%%%%%%%%%%%%%%%%%%%%%\n",
      "                                    %%%%%%%%%%%%%%%%%%%%%%%%\n",
      "                                     %%%%%%%%%%%%%%%%%%%%%%%%\n",
      "                 ###############      %%%%%%%%%%%%%%%%%%%%%%%%\n",
      "                ##################     %%%%%%%%%%%%%%%%%%%%%%%\n",
      "                ###################     %%%%%%%%%%%%%%%%%%%%%%%\n",
      "                ####################     %%%%%%%%%%%%%%%%%%%%%%\n",
      "                #####################     %%%%%%%%%%%%%%%%%%%%%\n",
      "                ######################     %%%%%%%%%%%%%%%%%%%%\n",
      "                #######################     %%%%%%%%%%%%%%%%%%\n",
      "                 #######################     %%%%%%%%%%%%%%%%%\n",
      "                 ######################     %%%%%%%%%%%%%%%%%\n",
      "                  ####################     %%%%%%%%%%%%%%%%%\n",
      "                    #################     %%%%%%%%%%%%%%%%%\n",
      "                     ###############     %%%%%%%%%%%%%%%%\n",
      "                       ############     %%%%%%%%%%%%%%%\n",
      "                          ########     %%%%%%%%%%%%%%\n",
      "                                      %%%%%%%%%%%\n",
      "\n",
      "                 | The OpenMC Monte Carlo Code\n",
      "       Copyright | 2011-2025 MIT, UChicago Argonne LLC, and contributors\n",
      "         License | https://docs.openmc.org/en/latest/license.html\n",
      "         Version | 0.15.1\n",
      "     Commit Hash | 906548db20d4ce3c322e7317992c73b51daeb11d\n",
      "       Date/Time | 2025-03-18 16:34:35\n",
      "  OpenMP Threads | 8\n",
      "\n",
      " Reading settings XML file...\n",
      " Reading cross sections XML file...\n",
      " Reading materials XML file...\n",
      " NCrystal config string for material #1: 'Fe_sg229_Iron-alpha.ncmat'\n",
      " NCrystal config string for material #2: 'Polyethylene_CH2.ncmat'\n",
      " Reading geometry XML file...\n",
      " Reading Fe54 from\n",
      " /Users/shuqixu/Downloads/My_C++/endfb-viii.0-hdf5/neutron/Fe54.h5\n",
      " Reading Fe56 from\n",
      " /Users/shuqixu/Downloads/My_C++/endfb-viii.0-hdf5/neutron/Fe56.h5\n",
      " Reading Fe57 from\n",
      " /Users/shuqixu/Downloads/My_C++/endfb-viii.0-hdf5/neutron/Fe57.h5\n",
      " Reading Fe58 from\n",
      " /Users/shuqixu/Downloads/My_C++/endfb-viii.0-hdf5/neutron/Fe58.h5\n",
      " Reading H1 from /Users/shuqixu/Downloads/My_C++/endfb-viii.0-hdf5/neutron/H1.h5\n",
      " Reading H2 from /Users/shuqixu/Downloads/My_C++/endfb-viii.0-hdf5/neutron/H2.h5\n",
      " Reading C12 from\n",
      " /Users/shuqixu/Downloads/My_C++/endfb-viii.0-hdf5/neutron/C12.h5\n",
      " Reading C13 from\n",
      " /Users/shuqixu/Downloads/My_C++/endfb-viii.0-hdf5/neutron/C13.h5\n",
      " Minimum neutron data temperature: 294 K\n",
      " Maximum neutron data temperature: 294 K\n",
      " Reading tallies XML file...\n",
      " Preparing distributed cell instances...\n",
      " Reading plot XML file...\n",
      " Writing summary.h5 file...\n",
      " Maximum neutron transport energy: 20000000 eV for H1\n",
      "\n",
      " ===============>     FIXED SOURCE TRANSPORT SIMULATION     <===============\n",
      "\n",
      " Simulating batch 1\n",
      " Simulating batch 2\n",
      " Simulating batch 3\n",
      " Simulating batch 4\n",
      " Simulating batch 5\n",
      " Simulating batch 6\n",
      " Simulating batch 7\n",
      " Simulating batch 8\n",
      " Simulating batch 9\n",
      " Simulating batch 10\n",
      " Creating state point statepoint.10.h5...\n",
      "\n",
      " =======================>     TIMING STATISTICS     <=======================\n",
      "\n",
      " Total time for initialization     = 7.9591e-01 seconds\n",
      "   Reading cross sections          = 4.6910e-01 seconds\n",
      " Total time in simulation          = 1.3308e+02 seconds\n",
      "   Time in transport only          = 1.3307e+02 seconds\n",
      "   Time in active batches          = 1.3308e+02 seconds\n",
      "   Time accumulating tallies       = 9.7442e-04 seconds\n",
      "   Time writing statepoints        = 1.6765e-03 seconds\n",
      " Total time for finalization       = 5.3529e-04 seconds\n",
      " Total time elapsed                = 1.3387e+02 seconds\n",
      " Calculation Rate (active)         = 751447 particles/second\n",
      "\n",
      " ============================>     RESULTS     <============================\n",
      "\n",
      " Leakage Fraction            = 0.92119 +/- 0.00004\n",
      "\n"
     ]
    }
   ],
   "source": [
    "dx1 = 0.8 # cm\n",
    "dx2 = 0.025 # cm\n",
    "\n",
    "ncmat1 = 'Fe_sg229_Iron-alpha.ncmat'\n",
    "ncmat2 = 'Polyethylene_CH2.ncmat'\n",
    "\n",
    "m1 = openmc.Material.from_ncrystal(ncmat1)\n",
    "m2 = openmc.Material.from_ncrystal(ncmat2)\n",
    "\n",
    "model = create_model_2layers(m1, m2, NParticles=10000000, slab1_thickness=dx1, \n",
    "                             slab2_thickness=dx2)\n",
    "model.export_to_xml()\n",
    "\n",
    "!rm summary.h5 statepoint.10.h5\n",
    "openmc.run(output=True)"
   ]
  },
  {
   "cell_type": "code",
   "execution_count": 6,
   "id": "8b6be0a9",
   "metadata": {},
   "outputs": [],
   "source": [
    "Ei, phii = get_incident_tally('statepoint.10.h5')\n",
    "Et, phit = get_transmitted_tally('statepoint.10.h5')"
   ]
  },
  {
   "cell_type": "code",
   "execution_count": 7,
   "id": "e8549f54-6c19-4315-afdb-9295cc6578e6",
   "metadata": {},
   "outputs": [
    {
     "name": "stdout",
     "output_type": "stream",
     "text": [
      "[(1.0, Fe=Fe(cohSL=9.45fm cohXS=11.2221barn incXS=0.4barn absXS=2.56barn mass=55.8472amu Z=26))] 7.8654733843566325 55.847211691 0.8\n",
      "[(0.6666666666666666, H=H(cohSL=-3.739fm cohXS=1.75679barn incXS=80.26barn absXS=0.3326barn mass=1.00798amu Z=1)), (0.3333333333333333, C=C(cohSL=6.646fm cohXS=5.55048barn incXS=0.001barn absXS=0.0035barn mass=12.011amu Z=6))] 0.92 4.675662950230433 0.025\n"
     ]
    }
   ],
   "source": [
    "wavelength = np.linspace(0,10,1000)\n",
    "\n",
    "trans1 = NCTrans(wavelength=wavelength, ncmat=ncmat1, \n",
    "                sample_thickness=dx1)\n",
    "trans2 = NCTrans(wavelength=wavelength, ncmat=ncmat2, \n",
    "                sample_thickness=dx2)"
   ]
  },
  {
   "cell_type": "markdown",
   "id": "dcbb7be6-1afc-40d6-bf30-18272d3e0279",
   "metadata": {},
   "source": [
    "# NCrystal Material compositions overlapped"
   ]
  },
  {
   "cell_type": "code",
   "execution_count": 8,
   "id": "51ad2c5c-350e-4a84-bd4b-6a5e64eb8cc7",
   "metadata": {},
   "outputs": [
    {
     "name": "stderr",
     "output_type": "stream",
     "text": [
      "/Users/shuqixu/opt/miniconda3/envs/ncrystal-v4/lib/python3.13/site-packages/openmc/source.py:658: FutureWarning: This class is deprecated in favor of 'IndependentSource'\n",
      "  warnings.warn(\"This class is deprecated in favor of 'IndependentSource'\", FutureWarning)\n"
     ]
    },
    {
     "name": "stdout",
     "output_type": "stream",
     "text": [
      "                                %%%%%%%%%%%%%%%\n",
      "                           %%%%%%%%%%%%%%%%%%%%%%%%\n",
      "                        %%%%%%%%%%%%%%%%%%%%%%%%%%%%%%\n",
      "                      %%%%%%%%%%%%%%%%%%%%%%%%%%%%%%%%%%\n",
      "                    %%%%%%%%%%%%%%%%%%%%%%%%%%%%%%%%%%%%%%\n",
      "                   %%%%%%%%%%%%%%%%%%%%%%%%%%%%%%%%%%%%%%%%\n",
      "                                    %%%%%%%%%%%%%%%%%%%%%%%%\n",
      "                                     %%%%%%%%%%%%%%%%%%%%%%%%\n",
      "                 ###############      %%%%%%%%%%%%%%%%%%%%%%%%\n",
      "                ##################     %%%%%%%%%%%%%%%%%%%%%%%\n",
      "                ###################     %%%%%%%%%%%%%%%%%%%%%%%\n",
      "                ####################     %%%%%%%%%%%%%%%%%%%%%%\n",
      "                #####################     %%%%%%%%%%%%%%%%%%%%%\n",
      "                ######################     %%%%%%%%%%%%%%%%%%%%\n",
      "                #######################     %%%%%%%%%%%%%%%%%%\n",
      "                 #######################     %%%%%%%%%%%%%%%%%\n",
      "                 ######################     %%%%%%%%%%%%%%%%%\n",
      "                  ####################     %%%%%%%%%%%%%%%%%\n",
      "                    #################     %%%%%%%%%%%%%%%%%\n",
      "                     ###############     %%%%%%%%%%%%%%%%\n",
      "                       ############     %%%%%%%%%%%%%%%\n",
      "                          ########     %%%%%%%%%%%%%%\n",
      "                                      %%%%%%%%%%%\n",
      "\n",
      "                 | The OpenMC Monte Carlo Code\n",
      "       Copyright | 2011-2025 MIT, UChicago Argonne LLC, and contributors\n",
      "         License | https://docs.openmc.org/en/latest/license.html\n",
      "         Version | 0.15.1\n",
      "     Commit Hash | 906548db20d4ce3c322e7317992c73b51daeb11d\n",
      "       Date/Time | 2025-03-18 16:36:49\n",
      "  OpenMP Threads | 8\n",
      "\n",
      " Reading settings XML file...\n",
      " Reading cross sections XML file...\n",
      " Reading materials XML file...\n",
      " NCrystal config string for material #2: 'Polyethylene_CH2.ncmat'\n",
      " NCrystal config string for material #3: 'Fe_sg229_Iron-alpha_C.ncmat'\n",
      " Reading geometry XML file...\n",
      " Reading H1 from /Users/shuqixu/Downloads/My_C++/endfb-viii.0-hdf5/neutron/H1.h5\n",
      " Reading H2 from /Users/shuqixu/Downloads/My_C++/endfb-viii.0-hdf5/neutron/H2.h5\n",
      " Reading C12 from\n",
      " /Users/shuqixu/Downloads/My_C++/endfb-viii.0-hdf5/neutron/C12.h5\n",
      " Reading C13 from\n",
      " /Users/shuqixu/Downloads/My_C++/endfb-viii.0-hdf5/neutron/C13.h5\n",
      " Reading Fe54 from\n",
      " /Users/shuqixu/Downloads/My_C++/endfb-viii.0-hdf5/neutron/Fe54.h5\n",
      " Reading Fe56 from\n",
      " /Users/shuqixu/Downloads/My_C++/endfb-viii.0-hdf5/neutron/Fe56.h5\n",
      " Reading Fe57 from\n",
      " /Users/shuqixu/Downloads/My_C++/endfb-viii.0-hdf5/neutron/Fe57.h5\n",
      " Reading Fe58 from\n",
      " /Users/shuqixu/Downloads/My_C++/endfb-viii.0-hdf5/neutron/Fe58.h5\n",
      " Minimum neutron data temperature: 294 K\n",
      " Maximum neutron data temperature: 294 K\n",
      " Reading tallies XML file...\n",
      " Preparing distributed cell instances...\n",
      " Reading plot XML file...\n",
      " Writing summary.h5 file...\n",
      " Maximum neutron transport energy: 20000000 eV for H1\n",
      "\n",
      " ===============>     FIXED SOURCE TRANSPORT SIMULATION     <===============\n",
      "\n",
      " Simulating batch 1\n",
      " Simulating batch 2\n",
      " Simulating batch 3\n",
      " Simulating batch 4\n",
      " Simulating batch 5\n",
      " Simulating batch 6\n",
      " Simulating batch 7\n",
      " Simulating batch 8\n",
      " Simulating batch 9\n",
      " Simulating batch 10\n",
      " Creating state point statepoint.10.h5...\n",
      "\n",
      " =======================>     TIMING STATISTICS     <=======================\n",
      "\n",
      " Total time for initialization     = 8.4366e-01 seconds\n",
      "   Reading cross sections          = 4.6995e-01 seconds\n",
      " Total time in simulation          = 1.3566e+02 seconds\n",
      "   Time in transport only          = 1.3566e+02 seconds\n",
      "   Time in active batches          = 1.3566e+02 seconds\n",
      "   Time accumulating tallies       = 8.8054e-04 seconds\n",
      "   Time writing statepoints        = 1.6039e-03 seconds\n",
      " Total time for finalization       = 4.2817e-04 seconds\n",
      " Total time elapsed                = 1.3651e+02 seconds\n",
      " Calculation Rate (active)         = 737120 particles/second\n",
      "\n",
      " ============================>     RESULTS     <============================\n",
      "\n",
      " Leakage Fraction            = 0.92159 +/- 0.00004\n",
      "\n"
     ]
    }
   ],
   "source": [
    "ncmat1C = 'Fe_sg229_Iron-alpha_C.ncmat'\n",
    "\n",
    "c = NC.NCMATComposer(ncmat1)\n",
    "c.write(ncmat1C)\n",
    "with open(ncmat1C, 'a') as f:\n",
    "    f.write('@ATOMDB\\n')\n",
    "    f.write('  Fe is 0.9999 Fe 0.0001 C\\n')\n",
    "\n",
    "m1C = openmc.Material.from_ncrystal(ncmat1C)\n",
    "\n",
    "model = create_model_2layers(m1C, m2, NParticles=10000000, slab1_thickness=dx1, \n",
    "                             slab2_thickness=dx2)\n",
    "model.export_to_xml()\n",
    "\n",
    "!rm summary.h5 statepoint.10.h5\n",
    "openmc.run(output=True)\n",
    "\n",
    "EiC, phiiC = get_incident_tally('statepoint.10.h5')\n",
    "EtC, phitC = get_transmitted_tally('statepoint.10.h5')"
   ]
  },
  {
   "cell_type": "code",
   "execution_count": null,
   "id": "6cda77b9-11f3-4793-9d82-3efa088b8b80",
   "metadata": {},
   "outputs": [
    {
     "name": "stdout",
     "output_type": "stream",
     "text": [
      "[(1.0, Mix=Mix{99.99%Fe+0.01%C}(cohSL=9.44972fm cohXS=11.2214barn incXS=0.400059barn absXS=2.55974barn mass=55.8428amu))] 7.864855999431538 55.84282807352122 0.8\n"
     ]
    }
   ],
   "source": [
    "trans1C = NCTrans(wavelength=wavelength, ncmat=ncmat1C, \n",
    "                  sample_thickness=dx1)"
   ]
  },
  {
   "cell_type": "markdown",
   "id": "fb77d0ee-64ef-45f9-9bea-6f2d473e8a6e",
   "metadata": {},
   "source": [
    "# Comparison"
   ]
  },
  {
   "cell_type": "code",
   "execution_count": null,
   "id": "8956e10f-f051-40d6-bc0b-a67691247141",
   "metadata": {},
   "outputs": [],
   "source": [
    "plt.plot(wavelength, trans1 * trans2, label='NCrystal 1', color='blue', linestyle='-')\n",
    "plt.plot(wavelength, trans1C * trans2, label='NCrystal 2', color='green', linestyle='--')\n",
    "plt.plot(NC.ekin2wl(Ei[25:]), phit[25:] / phii[25:], 'o', label='OpenMC 1', color='red')\n",
    "plt.plot(NC.ekin2wl(EiC[25:]), phitC[25:] / phiiC[25:], 's', label='OpenMC 2', color='purple')\n",
    "plt.legend()\n",
    "plt.xlabel('Wavelength (A)')\n",
    "plt.ylabel('Transmission')"
   ]
  },
  {
   "cell_type": "code",
   "execution_count": null,
   "id": "72112f9e-3713-442c-b3bb-2f66f60db74b",
   "metadata": {},
   "outputs": [],
   "source": []
  }
 ],
 "metadata": {
  "kernelspec": {
   "display_name": "Python 3 (ipykernel)",
   "language": "python",
   "name": "python3"
  },
  "language_info": {
   "codemirror_mode": {
    "name": "ipython",
    "version": 3
   },
   "file_extension": ".py",
   "mimetype": "text/x-python",
   "name": "python",
   "nbconvert_exporter": "python",
   "pygments_lexer": "ipython3",
   "version": "3.13.2"
  }
 },
 "nbformat": 4,
 "nbformat_minor": 5
}
